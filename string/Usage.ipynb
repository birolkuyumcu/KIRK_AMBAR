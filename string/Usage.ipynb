{
 "cells": [
  {
   "cell_type": "code",
   "execution_count": 1,
   "metadata": {},
   "outputs": [],
   "source": [
    "import string_utils as su"
   ]
  },
  {
   "cell_type": "code",
   "execution_count": 2,
   "metadata": {},
   "outputs": [],
   "source": [
    "text = 'SILİT 0022612001 SEBZE,MAKASI Sılit çelik sebze makası ile, sebzeleri sağlıkla doğrayabilirsiniz.'"
   ]
  },
  {
   "cell_type": "code",
   "execution_count": 3,
   "metadata": {},
   "outputs": [
    {
     "data": {
      "text/plain": [
       "'sılit 0022612001 sebze,makası sılit çelik sebze makası ile, sebzeleri sağlıkla doğrayabilirsiniz.'"
      ]
     },
     "execution_count": 3,
     "metadata": {},
     "output_type": "execute_result"
    }
   ],
   "source": [
    "su.tr_lower(text)"
   ]
  },
  {
   "cell_type": "code",
   "execution_count": 4,
   "metadata": {},
   "outputs": [
    {
     "data": {
      "text/plain": [
       "'SILİT 0022612001 SEBZE,MAKASI SILİT ÇELİK SEBZE MAKASI İLE, SEBZELERİ SAĞLIKLA DOĞRAYABİLİRSİNİZ.'"
      ]
     },
     "execution_count": 4,
     "metadata": {},
     "output_type": "execute_result"
    }
   ],
   "source": [
    "su.tr_upper(text)"
   ]
  },
  {
   "cell_type": "code",
   "execution_count": 5,
   "metadata": {},
   "outputs": [
    {
     "data": {
      "text/plain": [
       "'SILİT 0022612001 SEBZE MAKASI Sılit çelik sebze makası ile sebzeleri sağlıkla doğrayabilirsiniz'"
      ]
     },
     "execution_count": 5,
     "metadata": {},
     "output_type": "execute_result"
    }
   ],
   "source": [
    "su.remove_punc(text)"
   ]
  },
  {
   "cell_type": "code",
   "execution_count": 6,
   "metadata": {},
   "outputs": [
    {
     "data": {
      "text/plain": [
       "['SILİT',\n",
       " '0022612001',\n",
       " 'SEBZE',\n",
       " ',',\n",
       " 'MAKASI',\n",
       " 'Sılit',\n",
       " 'çelik',\n",
       " 'sebze',\n",
       " 'makası',\n",
       " 'ile',\n",
       " ',',\n",
       " 'sebzeleri',\n",
       " 'sağlıkla',\n",
       " 'doğrayabilirsiniz',\n",
       " '.']"
      ]
     },
     "execution_count": 6,
     "metadata": {},
     "output_type": "execute_result"
    }
   ],
   "source": [
    "su.splitter(text)"
   ]
  },
  {
   "cell_type": "code",
   "execution_count": null,
   "metadata": {},
   "outputs": [],
   "source": []
  }
 ],
 "metadata": {
  "kernelspec": {
   "display_name": "Python 3",
   "language": "python",
   "name": "python3"
  },
  "language_info": {
   "codemirror_mode": {
    "name": "ipython",
    "version": 3
   },
   "file_extension": ".py",
   "mimetype": "text/x-python",
   "name": "python",
   "nbconvert_exporter": "python",
   "pygments_lexer": "ipython3",
   "version": "3.7.4"
  }
 },
 "nbformat": 4,
 "nbformat_minor": 2
}
